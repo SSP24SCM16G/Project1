{
 "cells": [
  {
   "cell_type": "code",
   "execution_count": 4,
   "metadata": {},
   "outputs": [
    {
     "name": "stdout",
     "output_type": "stream",
     "text": [
      "Coefficients: [ 4.3071659   0.12637352  0.18017172  0.12368365  3.11721039 -0.05795675\n",
      " -0.12816822  0.09803064 -0.03334174  0.08615785]\n"
     ]
    }
   ],
   "source": [
    "from lasso.lasso import LassoHomotopy\n",
    "import numpy as np\n",
    "\n",
    "X = np.random.randn(50, 10)\n",
    "true_coef = np.array([4, 0, 0, 0, 3, 0, 0, 0, 0, 0])\n",
    "y = X @ true_coef + np.random.randn(50)\n",
    "\n",
    "model = LassoHomotopy(alpha=0.1)\n",
    "model.fit(X, y)\n",
    "print(\"Coefficients:\", model.coef_)\n"
   ]
  }
 ],
 "metadata": {
  "kernelspec": {
   "display_name": "venv",
   "language": "python",
   "name": "python3"
  },
  "language_info": {
   "codemirror_mode": {
    "name": "ipython",
    "version": 3
   },
   "file_extension": ".py",
   "mimetype": "text/x-python",
   "name": "python",
   "nbconvert_exporter": "python",
   "pygments_lexer": "ipython3",
   "version": "3.13.1"
  }
 },
 "nbformat": 4,
 "nbformat_minor": 2
}
